{
  "nbformat": 4,
  "nbformat_minor": 0,
  "metadata": {
    "colab": {
      "provenance": [],
      "collapsed_sections": [],
      "authorship_tag": "ABX9TyO0cnEijQR+GBqGaQEyruCe",
      "include_colab_link": true
    },
    "kernelspec": {
      "name": "python3",
      "display_name": "Python 3"
    },
    "language_info": {
      "name": "python"
    }
  },
  "cells": [
    {
      "cell_type": "markdown",
      "metadata": {
        "id": "view-in-github",
        "colab_type": "text"
      },
      "source": [
        "<a href=\"https://colab.research.google.com/github/KaleedhasanVB/test1/blob/main/TREE.ipynb\" target=\"_parent\"><img src=\"https://colab.research.google.com/assets/colab-badge.svg\" alt=\"Open In Colab\"/></a>"
      ]
    },
    {
      "cell_type": "code",
      "execution_count": null,
      "metadata": {
        "colab": {
          "base_uri": "https://localhost:8080/"
        },
        "id": "m7jWaUFAOTdw",
        "outputId": "3eb64a29-7d52-416a-8677-4fb44ec29f48"
      },
      "outputs": [
        {
          "output_type": "stream",
          "name": "stdout",
          "text": [
            "20\n",
            "30\n",
            "40\n",
            "50\n",
            "60\n",
            "70\n",
            "Inorder\n",
            "20\n",
            "30\n",
            "40\n",
            "50\n",
            "60\n",
            "70\n",
            "Preorder\n",
            "50\n",
            "30\n",
            "20\n",
            "40\n",
            "70\n",
            "60\n",
            "Postorder\n",
            "20\n",
            "40\n",
            "30\n",
            "60\n",
            "70\n",
            "50\n",
            "MIn\n",
            "SUCC\n"
          ]
        },
        {
          "output_type": "execute_result",
          "data": {
            "text/plain": [
              "60"
            ]
          },
          "metadata": {},
          "execution_count": 7
        }
      ],
      "source": [
        "class Node:\n",
        "  def __init__(self,data):\n",
        "    self.left = None\n",
        "    self.right = None\n",
        "    self.data= data\n",
        "  \n",
        "  def insert(self,data):\n",
        "    if self.data:\n",
        "      if data<self.data:\n",
        "        if self.left is None:\n",
        "          self.left=Node(data)\n",
        "        else:\n",
        "          self.left.insert(data)\n",
        "      elif data>self.data:\n",
        "        if self.right is None:\n",
        "          self.right= Node(data)\n",
        "        else:\n",
        "          self.right.insert(data)\n",
        "  def printtree(self):\n",
        "    if self.left:\n",
        "      self.left.printtree()\n",
        "    print(self.data)\n",
        "    if self.right:\n",
        "      self.right.printtree()\n",
        "\n",
        "def inorder(root):\n",
        "  if root:\n",
        "    inorder(root.left)\n",
        "    print(root.data)\n",
        "    inorder(root.right)\n",
        "\n",
        "def preorder(root):\n",
        "  if root:\n",
        "    print(root.data)\n",
        "    preorder(root.left)\n",
        "    preorder(root.right)\n",
        "\n",
        "def postorder(root):\n",
        "  if root:\n",
        "    postorder(root.left)\n",
        "    postorder(root.right)\n",
        "    print(root.data)\n",
        "\n",
        "def delroot(root):\n",
        "  if root:\n",
        "    delroot(root.left)\n",
        "    delroot(root.right)\n",
        "    print('deleting',root.data)\n",
        "    del root\n",
        "\n",
        "def find(root,key):\n",
        "  if root is None:\n",
        "    return root\n",
        "  if root.data == key:\n",
        "    print(\"found\")\n",
        "    return root\n",
        "  elif key<root.data:\n",
        "    return find(root.left,key)\n",
        "  elif key>root.data:\n",
        "    return find(root.right,key)\n",
        "\n",
        "def min(root):\n",
        "  if root.left is None:\n",
        "    return root.data\n",
        "  else:\n",
        "    return min(root.left)     \n",
        "\n",
        "def succ(root):\n",
        "  if root.right is None:\n",
        "    return None\n",
        "  else:\n",
        "    return min(root.right)\n",
        "\n",
        "root = Node(50)\n",
        "root.left = Node(30)\n",
        "root.right = Node(70)\n",
        "root.left.left = Node(20)\n",
        "root.left.right = Node(40)\n",
        "root.right.left = Node(60)\n",
        "root.printtree()\n",
        "print('Inorder')\n",
        "inorder(root)\n",
        "print('Preorder')\n",
        "preorder(root)\n",
        "print('Postorder')\n",
        "postorder(root)\n",
        "print('MIn')\n",
        "min(root)\n",
        "print('SUCC')\n",
        "succ(root)"
      ]
    },
    {
      "cell_type": "code",
      "source": [
        "def heapify(arr,n,i):\n",
        "  largest = i\n",
        "  l = 2*i+1\n",
        "  r = 2*i+2\n",
        "  if l<n and arr[largest]<arr[l]:\n",
        "    largest = l\n",
        "  if r<n and arr[largest]<arr[r]:\n",
        "    largest = r\n",
        "  if largest!=i:\n",
        "    arr[i],arr[largest] = arr[largest],arr[i]\n",
        "    heapify(arr,n,largest)\n",
        "\n",
        "def heapSort(arr):\n",
        "  n= len(arr)\n",
        "  for i in range(n//2,-1,-1):\n",
        "    heapify(arr,n,i)\n",
        "  for i in range(n-1,0,-1):\n",
        "    arr[i],arr[0]=arr[0],arr[i]\n",
        "    heapify(arr,i,0)\n",
        "\n",
        "arr=[1,12,9,5,6,10]\n",
        "heapSort(arr)\n",
        "n= len(arr)\n",
        "for i in range(n):\n",
        "  print(arr[i])"
      ],
      "metadata": {
        "id": "cnpf2tCMXmyV",
        "colab": {
          "base_uri": "https://localhost:8080/"
        },
        "outputId": "f3f84ba9-0b50-4f87-e47f-580ff17901d9"
      },
      "execution_count": null,
      "outputs": [
        {
          "output_type": "stream",
          "name": "stdout",
          "text": [
            "1\n",
            "5\n",
            "6\n",
            "9\n",
            "10\n",
            "12\n"
          ]
        }
      ]
    }
  ]
}